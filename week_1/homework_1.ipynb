{
 "cells": [
  {
   "cell_type": "markdown",
   "metadata": {
    "_sphinx_cell_id": "5b7c3651-9062-4ad8-ad2b-31a9a49924a3"
   },
   "source": [
    "# Q1. Pandas version"
   ]
  },
  {
   "cell_type": "code",
   "execution_count": 27,
   "metadata": {
    "_sphinx_cell_id": "6e086f00-c8a8-48ba-ad3a-1624acc10fd4"
   },
   "outputs": [
    {
     "name": "stdout",
     "output_type": "stream",
     "text": [
      "2.3.2\n"
     ]
    }
   ],
   "source": [
    "# What's the version of Pandas that you installed?\n",
    "import pandas as pd\n",
    "import numpy as np\n",
    "print(pd.__version__)"
   ]
  },
  {
   "cell_type": "markdown",
   "metadata": {
    "_sphinx_cell_id": "7d60feeb-f56e-4dc9-9965-2ef749a9cb67"
   },
   "source": [
    "# Q2. Records count"
   ]
  },
  {
   "cell_type": "code",
   "execution_count": 2,
   "metadata": {
    "_sphinx_cell_id": "8e9b8f32-e941-48ab-b857-1707087cf6cd"
   },
   "outputs": [],
   "source": [
    "df = pd.read_csv('car_fuel_efficiency.csv')"
   ]
  },
  {
   "cell_type": "code",
   "execution_count": 7,
   "metadata": {
    "_sphinx_cell_id": "cbfacbb3-384d-42af-a088-4a326c4eefc9"
   },
   "outputs": [
    {
     "data": {
      "text/html": [
       "<div>\n",
       "<style scoped>\n",
       "    .dataframe tbody tr th:only-of-type {\n",
       "        vertical-align: middle;\n",
       "    }\n",
       "\n",
       "    .dataframe tbody tr th {\n",
       "        vertical-align: top;\n",
       "    }\n",
       "\n",
       "    .dataframe thead th {\n",
       "        text-align: right;\n",
       "    }\n",
       "</style>\n",
       "<table border=\"1\" class=\"dataframe\">\n",
       "  <thead>\n",
       "    <tr style=\"text-align: right;\">\n",
       "      <th></th>\n",
       "      <th>engine_displacement</th>\n",
       "      <th>num_cylinders</th>\n",
       "      <th>horsepower</th>\n",
       "      <th>vehicle_weight</th>\n",
       "      <th>acceleration</th>\n",
       "      <th>model_year</th>\n",
       "      <th>origin</th>\n",
       "      <th>fuel_type</th>\n",
       "      <th>drivetrain</th>\n",
       "      <th>num_doors</th>\n",
       "      <th>fuel_efficiency_mpg</th>\n",
       "    </tr>\n",
       "  </thead>\n",
       "  <tbody>\n",
       "    <tr>\n",
       "      <th>0</th>\n",
       "      <td>170</td>\n",
       "      <td>3.0</td>\n",
       "      <td>159.0</td>\n",
       "      <td>3413.433759</td>\n",
       "      <td>17.7</td>\n",
       "      <td>2003</td>\n",
       "      <td>Europe</td>\n",
       "      <td>Gasoline</td>\n",
       "      <td>All-wheel drive</td>\n",
       "      <td>0.0</td>\n",
       "      <td>13.231729</td>\n",
       "    </tr>\n",
       "    <tr>\n",
       "      <th>1</th>\n",
       "      <td>130</td>\n",
       "      <td>5.0</td>\n",
       "      <td>97.0</td>\n",
       "      <td>3149.664934</td>\n",
       "      <td>17.8</td>\n",
       "      <td>2007</td>\n",
       "      <td>USA</td>\n",
       "      <td>Gasoline</td>\n",
       "      <td>Front-wheel drive</td>\n",
       "      <td>0.0</td>\n",
       "      <td>13.688217</td>\n",
       "    </tr>\n",
       "    <tr>\n",
       "      <th>2</th>\n",
       "      <td>170</td>\n",
       "      <td>NaN</td>\n",
       "      <td>78.0</td>\n",
       "      <td>3079.038997</td>\n",
       "      <td>15.1</td>\n",
       "      <td>2018</td>\n",
       "      <td>Europe</td>\n",
       "      <td>Gasoline</td>\n",
       "      <td>Front-wheel drive</td>\n",
       "      <td>0.0</td>\n",
       "      <td>14.246341</td>\n",
       "    </tr>\n",
       "    <tr>\n",
       "      <th>3</th>\n",
       "      <td>220</td>\n",
       "      <td>4.0</td>\n",
       "      <td>NaN</td>\n",
       "      <td>2542.392402</td>\n",
       "      <td>20.2</td>\n",
       "      <td>2009</td>\n",
       "      <td>USA</td>\n",
       "      <td>Diesel</td>\n",
       "      <td>All-wheel drive</td>\n",
       "      <td>2.0</td>\n",
       "      <td>16.912736</td>\n",
       "    </tr>\n",
       "    <tr>\n",
       "      <th>4</th>\n",
       "      <td>210</td>\n",
       "      <td>1.0</td>\n",
       "      <td>140.0</td>\n",
       "      <td>3460.870990</td>\n",
       "      <td>14.4</td>\n",
       "      <td>2009</td>\n",
       "      <td>Europe</td>\n",
       "      <td>Gasoline</td>\n",
       "      <td>All-wheel drive</td>\n",
       "      <td>2.0</td>\n",
       "      <td>12.488369</td>\n",
       "    </tr>\n",
       "  </tbody>\n",
       "</table>\n",
       "</div>"
      ],
      "text/plain": [
       "   engine_displacement  num_cylinders  horsepower  vehicle_weight  \\\n",
       "0                  170            3.0       159.0     3413.433759   \n",
       "1                  130            5.0        97.0     3149.664934   \n",
       "2                  170            NaN        78.0     3079.038997   \n",
       "3                  220            4.0         NaN     2542.392402   \n",
       "4                  210            1.0       140.0     3460.870990   \n",
       "\n",
       "   acceleration  model_year  origin fuel_type         drivetrain  num_doors  \\\n",
       "0          17.7        2003  Europe  Gasoline    All-wheel drive        0.0   \n",
       "1          17.8        2007     USA  Gasoline  Front-wheel drive        0.0   \n",
       "2          15.1        2018  Europe  Gasoline  Front-wheel drive        0.0   \n",
       "3          20.2        2009     USA    Diesel    All-wheel drive        2.0   \n",
       "4          14.4        2009  Europe  Gasoline    All-wheel drive        2.0   \n",
       "\n",
       "   fuel_efficiency_mpg  \n",
       "0            13.231729  \n",
       "1            13.688217  \n",
       "2            14.246341  \n",
       "3            16.912736  \n",
       "4            12.488369  "
      ]
     },
     "execution_count": 7,
     "metadata": {},
     "output_type": "execute_result"
    }
   ],
   "source": [
    "df.head()"
   ]
  },
  {
   "cell_type": "code",
   "execution_count": null,
   "metadata": {
    "_sphinx_cell_id": "64122024-ff21-4640-85b3-d6823ba89ae2"
   },
   "outputs": [
    {
     "data": {
      "text/plain": [
       "9704"
      ]
     },
     "execution_count": 5,
     "metadata": {},
     "output_type": "execute_result"
    }
   ],
   "source": [
    "#How many records are in the dataset?\n",
    "len(df)"
   ]
  },
  {
   "cell_type": "markdown",
   "metadata": {
    "_sphinx_cell_id": "04151cff-a293-4c4b-8920-8a3d22cd4eb6"
   },
   "source": [
    "# Q3. Fuel types"
   ]
  },
  {
   "cell_type": "code",
   "execution_count": 8,
   "metadata": {
    "_sphinx_cell_id": "d3331669-7b64-4265-bc52-5a0a95c0f67a"
   },
   "outputs": [
    {
     "data": {
      "text/plain": [
       "2"
      ]
     },
     "execution_count": 8,
     "metadata": {},
     "output_type": "execute_result"
    }
   ],
   "source": [
    "# How many fual types are presented in the dataset?\n",
    "df['fuel_type'].nunique()"
   ]
  },
  {
   "cell_type": "code",
   "execution_count": 9,
   "metadata": {
    "_sphinx_cell_id": "bd8b0be3-f741-45d1-8554-ff3e04b26346"
   },
   "outputs": [
    {
     "data": {
      "text/plain": [
       "fuel_type\n",
       "Gasoline    4898\n",
       "Diesel      4806\n",
       "Name: count, dtype: int64"
      ]
     },
     "execution_count": 9,
     "metadata": {},
     "output_type": "execute_result"
    }
   ],
   "source": [
    "df['fuel_type'].value_counts()"
   ]
  },
  {
   "cell_type": "markdown",
   "metadata": {
    "_sphinx_cell_id": "6f202125-c03f-46a2-8610-72d0c1d9b339"
   },
   "source": [
    "# Q4. Missing values"
   ]
  },
  {
   "cell_type": "code",
   "execution_count": 13,
   "metadata": {
    "_sphinx_cell_id": "1d9c49e7-f651-47a1-b62f-8264337a6032"
   },
   "outputs": [
    {
     "data": {
      "text/plain": [
       "engine_displacement      0\n",
       "num_cylinders          482\n",
       "horsepower             708\n",
       "vehicle_weight           0\n",
       "acceleration           930\n",
       "model_year               0\n",
       "origin                   0\n",
       "fuel_type                0\n",
       "drivetrain               0\n",
       "num_doors              502\n",
       "fuel_efficiency_mpg      0\n",
       "dtype: int64"
      ]
     },
     "execution_count": 13,
     "metadata": {},
     "output_type": "execute_result"
    }
   ],
   "source": [
    "# How many columns in the dataset have missing values?\n",
    "df.isnull().sum()"
   ]
  },
  {
   "cell_type": "markdown",
   "metadata": {
    "_sphinx_cell_id": "bd678e16-84fb-4897-bbb9-db6accf30eb2"
   },
   "source": [
    "# Q5. Max fuel efficiency"
   ]
  },
  {
   "cell_type": "code",
   "execution_count": 15,
   "metadata": {
    "_sphinx_cell_id": "c495a920-146e-4a0d-975e-da7b20ed0b80"
   },
   "outputs": [
    {
     "data": {
      "text/plain": [
       "23.759122836520497"
      ]
     },
     "execution_count": 15,
     "metadata": {},
     "output_type": "execute_result"
    }
   ],
   "source": [
    "#What the maximum fuel efficiency of cars in Asia\n",
    "df[df['origin'] == 'Asia']['fuel_efficiency_mpg'].max()"
   ]
  },
  {
   "cell_type": "markdown",
   "metadata": {
    "_sphinx_cell_id": "12bb6011-2fd0-4066-9ebe-3fb2d1234b0b"
   },
   "source": [
    "# Q6. Median value of horsepower\n",
    "\n"
   ]
  },
  {
   "cell_type": "code",
   "execution_count": 34,
   "metadata": {
    "_sphinx_cell_id": "84c138dd-2a88-473d-8d0f-7416e9e6f2cc"
   },
   "outputs": [
    {
     "name": "stdout",
     "output_type": "stream",
     "text": [
      "Median value: 149.0\n",
      "Most frequent value: 152.0\n",
      "Median value: 152.0\n"
     ]
    }
   ],
   "source": [
    "# Find the median value of horsepower column in the dataset.\n",
    "print(f'Median value: {df[\"horsepower\"].median()}')\n",
    "# Next, calculate the most frequent value of the same horsepower column.\n",
    "print(f'Most frequent value: {df[\"horsepower\"].mode()[0]}')\n",
    "# Use fillna method to fill the missing values in horsepower column with the most frequent value from the previous step.\n",
    "df['horsepower'] = df['horsepower'].fillna(df['horsepower'].mode()[0])\n",
    "# Now, calculate the median value of horsepower once again.\n",
    "print(f'Median value: {df[\"horsepower\"].median()}')"
   ]
  },
  {
   "cell_type": "markdown",
   "metadata": {
    "_sphinx_cell_id": "a5f7ad62-333f-475c-877f-a341e95737e3"
   },
   "source": [
    "# Q7. Sum of weights"
   ]
  },
  {
   "cell_type": "code",
   "execution_count": 28,
   "metadata": {
    "_sphinx_cell_id": "c1de2fb7-da8e-4c10-bc85-325a41542d8f"
   },
   "outputs": [
    {
     "data": {
      "text/plain": [
       "np.float64(0.5187709081074025)"
      ]
     },
     "execution_count": 28,
     "metadata": {},
     "output_type": "execute_result"
    }
   ],
   "source": [
    "# Select all the cars from Asia\n",
    "# Select only columns vehicle_weight and model_year\n",
    "# Select the first 7 values\n",
    "# Get the underlying NumPy array. Let's call it X.\n",
    "# Compute matrix-matrix multiplication between the transpose of X and X. To get the transpose, use X.T. Let's call the result XTX.\n",
    "# Invert XTX.\n",
    "# Create an array y with values [1100, 1300, 800, 900, 1000, 1100, 1200].\n",
    "# Multiply the inverse of XTX with the transpose of X, and then multiply the result by y. Call the result w.\n",
    "# What's the sum of all the elements of the result?\n",
    "\n",
    "\n",
    "df_asia = df[df['origin'] == 'Asia'][['vehicle_weight','model_year']][:7]\n",
    "X = df_asia.values\n",
    "XTX = X.T.dot(X)\n",
    "XTX_inv = np.linalg.inv(XTX)\n",
    "y = np.array([1100, 1300, 800, 900, 1000, 1100, 1200])\n",
    "w = XTX_inv.dot(X.T).dot(y)\n",
    "w.sum()"
   ]
  },
  {
   "cell_type": "code",
   "execution_count": 25,
   "metadata": {
    "_sphinx_cell_id": "37c2fe8e-3cb7-41c8-befa-bc0c13d2b8f2"
   },
   "outputs": [
    {
     "data": {
      "text/plain": [
       "array([[2714.21930965, 2016.        ],\n",
       "       [2783.86897424, 2010.        ],\n",
       "       [3582.68736772, 2007.        ],\n",
       "       [2231.8081416 , 2011.        ],\n",
       "       [2659.43145076, 2016.        ],\n",
       "       [2844.22753389, 2014.        ],\n",
       "       [3761.99403819, 2019.        ]])"
      ]
     },
     "execution_count": 25,
     "metadata": {},
     "output_type": "execute_result"
    }
   ],
   "source": [
    "X"
   ]
  },
  {
   "cell_type": "code",
   "execution_count": null,
   "metadata": {
    "_sphinx_cell_id": "ada39843-c6f5-4c6e-8075-bf1d60a7498c"
   },
   "outputs": [],
   "source": []
  }
 ],
 "metadata": {
  "__sphinx_history__.cb911817-859f-4052-818e-1d00da865a05": "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",
  "kernelspec": {
   "display_name": "ml-zoomcamp",
   "language": "python",
   "name": "python3"
  },
  "language_info": {
   "codemirror_mode": {
    "name": "ipython",
    "version": 3
   },
   "file_extension": ".py",
   "mimetype": "text/x-python",
   "name": "python",
   "nbconvert_exporter": "python",
   "pygments_lexer": "ipython3",
   "version": "3.11.13"
  }
 },
 "nbformat": 4,
 "nbformat_minor": 2
}
