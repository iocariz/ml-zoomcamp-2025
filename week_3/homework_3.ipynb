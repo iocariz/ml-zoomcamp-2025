{
 "cells": [
  {
   "cell_type": "markdown",
   "metadata": {
    "_sphinx_cell_id": "25cacf59-0cbf-4988-97c3-aadc9625462c"
   },
   "source": [
    "# Data Preparation"
   ]
  },
  {
   "cell_type": "code",
   "execution_count": 1,
   "metadata": {
    "_sphinx_cell_id": "1a29023b-01a2-4c81-8be6-c4ad341e1d62"
   },
   "outputs": [],
   "source": [
    "import numpy as np\n",
    "import pandas as pd\n",
    "import seaborn as sns\n",
    "from matplotlib import pyplot as plt"
   ]
  },
  {
   "cell_type": "markdown",
   "metadata": {
    "_sphinx_cell_id": "e480384a-e985-4740-ab5e-9f81a27e8eb9"
   },
   "source": [
    "# Get the data"
   ]
  },
  {
   "cell_type": "code",
   "execution_count": 2,
   "metadata": {
    "_sphinx_cell_id": "bf15211d-9695-44ae-98eb-9b298e01875f"
   },
   "outputs": [],
   "source": [
    "df = pd.read_csv('https://raw.githubusercontent.com/alexeygrigorev/datasets/master/course_lead_scoring.csv')"
   ]
  },
  {
   "cell_type": "code",
   "execution_count": 3,
   "metadata": {
    "_sphinx_cell_id": "fadd9250-16e0-497f-9b9e-11db7dd82ed3"
   },
   "outputs": [
    {
     "data": {
      "text/html": [
       "<div>\n",
       "<style scoped>\n",
       "    .dataframe tbody tr th:only-of-type {\n",
       "        vertical-align: middle;\n",
       "    }\n",
       "\n",
       "    .dataframe tbody tr th {\n",
       "        vertical-align: top;\n",
       "    }\n",
       "\n",
       "    .dataframe thead th {\n",
       "        text-align: right;\n",
       "    }\n",
       "</style>\n",
       "<table border=\"1\" class=\"dataframe\">\n",
       "  <thead>\n",
       "    <tr style=\"text-align: right;\">\n",
       "      <th></th>\n",
       "      <th>lead_source</th>\n",
       "      <th>industry</th>\n",
       "      <th>number_of_courses_viewed</th>\n",
       "      <th>annual_income</th>\n",
       "      <th>employment_status</th>\n",
       "      <th>location</th>\n",
       "      <th>interaction_count</th>\n",
       "      <th>lead_score</th>\n",
       "      <th>converted</th>\n",
       "    </tr>\n",
       "  </thead>\n",
       "  <tbody>\n",
       "    <tr>\n",
       "      <th>0</th>\n",
       "      <td>paid_ads</td>\n",
       "      <td>NaN</td>\n",
       "      <td>1</td>\n",
       "      <td>79450.0</td>\n",
       "      <td>unemployed</td>\n",
       "      <td>south_america</td>\n",
       "      <td>4</td>\n",
       "      <td>0.94</td>\n",
       "      <td>1</td>\n",
       "    </tr>\n",
       "    <tr>\n",
       "      <th>1</th>\n",
       "      <td>social_media</td>\n",
       "      <td>retail</td>\n",
       "      <td>1</td>\n",
       "      <td>46992.0</td>\n",
       "      <td>employed</td>\n",
       "      <td>south_america</td>\n",
       "      <td>1</td>\n",
       "      <td>0.80</td>\n",
       "      <td>0</td>\n",
       "    </tr>\n",
       "    <tr>\n",
       "      <th>2</th>\n",
       "      <td>events</td>\n",
       "      <td>healthcare</td>\n",
       "      <td>5</td>\n",
       "      <td>78796.0</td>\n",
       "      <td>unemployed</td>\n",
       "      <td>australia</td>\n",
       "      <td>3</td>\n",
       "      <td>0.69</td>\n",
       "      <td>1</td>\n",
       "    </tr>\n",
       "    <tr>\n",
       "      <th>3</th>\n",
       "      <td>paid_ads</td>\n",
       "      <td>retail</td>\n",
       "      <td>2</td>\n",
       "      <td>83843.0</td>\n",
       "      <td>NaN</td>\n",
       "      <td>australia</td>\n",
       "      <td>1</td>\n",
       "      <td>0.87</td>\n",
       "      <td>0</td>\n",
       "    </tr>\n",
       "    <tr>\n",
       "      <th>4</th>\n",
       "      <td>referral</td>\n",
       "      <td>education</td>\n",
       "      <td>3</td>\n",
       "      <td>85012.0</td>\n",
       "      <td>self_employed</td>\n",
       "      <td>europe</td>\n",
       "      <td>3</td>\n",
       "      <td>0.62</td>\n",
       "      <td>1</td>\n",
       "    </tr>\n",
       "  </tbody>\n",
       "</table>\n",
       "</div>"
      ],
      "text/plain": [
       "    lead_source    industry  number_of_courses_viewed  annual_income  \\\n",
       "0      paid_ads         NaN                         1        79450.0   \n",
       "1  social_media      retail                         1        46992.0   \n",
       "2        events  healthcare                         5        78796.0   \n",
       "3      paid_ads      retail                         2        83843.0   \n",
       "4      referral   education                         3        85012.0   \n",
       "\n",
       "  employment_status       location  interaction_count  lead_score  converted  \n",
       "0        unemployed  south_america                  4        0.94          1  \n",
       "1          employed  south_america                  1        0.80          0  \n",
       "2        unemployed      australia                  3        0.69          1  \n",
       "3               NaN      australia                  1        0.87          0  \n",
       "4     self_employed         europe                  3        0.62          1  "
      ]
     },
     "execution_count": 3,
     "metadata": {},
     "output_type": "execute_result"
    }
   ],
   "source": [
    "df.head()"
   ]
  },
  {
   "cell_type": "code",
   "execution_count": 5,
   "metadata": {
    "_sphinx_cell_id": "d3fae91f-84aa-40b2-9535-f9068420a8eb"
   },
   "outputs": [
    {
     "data": {
      "text/plain": [
       "lead_source                  object\n",
       "industry                     object\n",
       "number_of_courses_viewed      int64\n",
       "annual_income               float64\n",
       "employment_status            object\n",
       "location                     object\n",
       "interaction_count             int64\n",
       "lead_score                  float64\n",
       "converted                     int64\n",
       "dtype: object"
      ]
     },
     "execution_count": 5,
     "metadata": {},
     "output_type": "execute_result"
    }
   ],
   "source": [
    "df.dtypes"
   ]
  },
  {
   "cell_type": "markdown",
   "metadata": {
    "_sphinx_cell_id": "e79aabda-c843-450a-8cee-659e5a3ca0fc"
   },
   "source": [
    "# Data preparation"
   ]
  },
  {
   "cell_type": "code",
   "execution_count": 4,
   "metadata": {
    "_sphinx_cell_id": "24bf9dac-93c6-49d3-b41c-35f83a9efcfd"
   },
   "outputs": [
    {
     "data": {
      "text/plain": [
       "lead_source                 128\n",
       "industry                    134\n",
       "number_of_courses_viewed      0\n",
       "annual_income               181\n",
       "employment_status           100\n",
       "location                     63\n",
       "interaction_count             0\n",
       "lead_score                    0\n",
       "converted                     0\n",
       "dtype: int64"
      ]
     },
     "execution_count": 4,
     "metadata": {},
     "output_type": "execute_result"
    }
   ],
   "source": [
    "df.isna().sum()"
   ]
  },
  {
   "cell_type": "code",
   "execution_count": 6,
   "metadata": {
    "_sphinx_cell_id": "e098a2dc-ef6c-44cb-b167-e8213e59359d"
   },
   "outputs": [],
   "source": [
    "# For caterogical features, replace them with 'NA'\n",
    "categorical = df.select_dtypes(include='object').columns\n",
    "df[categorical] = df[categorical].fillna('NA')  \n"
   ]
  },
  {
   "cell_type": "code",
   "execution_count": 7,
   "metadata": {
    "_sphinx_cell_id": "f1797cf2-994e-4135-95cf-c2c627566a8d"
   },
   "outputs": [],
   "source": [
    "# For numerical features, replace with with 0.0\n",
    "numerical = df.select_dtypes(include=['int64', 'float64']).columns\n",
    "df[numerical] = df[numerical].fillna(0.0)"
   ]
  },
  {
   "cell_type": "code",
   "execution_count": 8,
   "metadata": {
    "_sphinx_cell_id": "8c775e9f-846b-49c8-9771-6e549a7636a7"
   },
   "outputs": [
    {
     "data": {
      "text/plain": [
       "lead_source                 0\n",
       "industry                    0\n",
       "number_of_courses_viewed    0\n",
       "annual_income               0\n",
       "employment_status           0\n",
       "location                    0\n",
       "interaction_count           0\n",
       "lead_score                  0\n",
       "converted                   0\n",
       "dtype: int64"
      ]
     },
     "execution_count": 8,
     "metadata": {},
     "output_type": "execute_result"
    }
   ],
   "source": [
    "df.isna().sum()"
   ]
  },
  {
   "cell_type": "markdown",
   "metadata": {
    "_sphinx_cell_id": "b03a555d-72b9-4df2-9b57-3b4514e15180"
   },
   "source": [
    "# Question 1\n"
   ]
  },
  {
   "cell_type": "code",
   "execution_count": 9,
   "metadata": {
    "_sphinx_cell_id": "7d6e463b-4de2-4060-9dfe-07d760a9684a"
   },
   "outputs": [
    {
     "data": {
      "text/plain": [
       "'retail'"
      ]
     },
     "execution_count": 9,
     "metadata": {},
     "output_type": "execute_result"
    }
   ],
   "source": [
    "# What is the most frequent observation (mode) for the column industry?\n",
    "df['industry'].mode()[0]"
   ]
  },
  {
   "cell_type": "markdown",
   "metadata": {
    "_sphinx_cell_id": "117a5dd4-816b-424e-9c32-fa8b46058cad"
   },
   "source": [
    "# Question 2"
   ]
  },
  {
   "cell_type": "code",
   "execution_count": 12,
   "metadata": {
    "_sphinx_cell_id": "dcf01add-0971-42eb-8f50-c82404b9f7d4"
   },
   "outputs": [
    {
     "data": {
      "text/html": [
       "<style type=\"text/css\">\n",
       "#T_ebcfb_row0_col0, #T_ebcfb_row1_col1, #T_ebcfb_row2_col2, #T_ebcfb_row3_col3, #T_ebcfb_row4_col4 {\n",
       "  background-color: #b40426;\n",
       "  color: #f1f1f1;\n",
       "}\n",
       "#T_ebcfb_row0_col1, #T_ebcfb_row0_col2, #T_ebcfb_row0_col3, #T_ebcfb_row1_col4, #T_ebcfb_row2_col0 {\n",
       "  background-color: #3b4cc0;\n",
       "  color: #f1f1f1;\n",
       "}\n",
       "#T_ebcfb_row0_col4 {\n",
       "  background-color: #c1d4f4;\n",
       "  color: #000000;\n",
       "}\n",
       "#T_ebcfb_row1_col0, #T_ebcfb_row3_col2 {\n",
       "  background-color: #445acc;\n",
       "  color: #f1f1f1;\n",
       "}\n",
       "#T_ebcfb_row1_col2 {\n",
       "  background-color: #4961d2;\n",
       "  color: #f1f1f1;\n",
       "}\n",
       "#T_ebcfb_row1_col3 {\n",
       "  background-color: #4055c8;\n",
       "  color: #f1f1f1;\n",
       "}\n",
       "#T_ebcfb_row2_col1, #T_ebcfb_row3_col0 {\n",
       "  background-color: #3f53c6;\n",
       "  color: #f1f1f1;\n",
       "}\n",
       "#T_ebcfb_row2_col3 {\n",
       "  background-color: #3e51c5;\n",
       "  color: #f1f1f1;\n",
       "}\n",
       "#T_ebcfb_row2_col4 {\n",
       "  background-color: #abc8fd;\n",
       "  color: #000000;\n",
       "}\n",
       "#T_ebcfb_row3_col1 {\n",
       "  background-color: #3c4ec2;\n",
       "  color: #f1f1f1;\n",
       "}\n",
       "#T_ebcfb_row3_col4 {\n",
       "  background-color: #688aef;\n",
       "  color: #f1f1f1;\n",
       "}\n",
       "#T_ebcfb_row4_col0 {\n",
       "  background-color: #cedaeb;\n",
       "  color: #000000;\n",
       "}\n",
       "#T_ebcfb_row4_col1 {\n",
       "  background-color: #485fd1;\n",
       "  color: #f1f1f1;\n",
       "}\n",
       "#T_ebcfb_row4_col2 {\n",
       "  background-color: #bcd2f7;\n",
       "  color: #000000;\n",
       "}\n",
       "#T_ebcfb_row4_col3 {\n",
       "  background-color: #7a9df8;\n",
       "  color: #f1f1f1;\n",
       "}\n",
       "</style>\n",
       "<table id=\"T_ebcfb\">\n",
       "  <thead>\n",
       "    <tr>\n",
       "      <th class=\"blank level0\" >&nbsp;</th>\n",
       "      <th id=\"T_ebcfb_level0_col0\" class=\"col_heading level0 col0\" >number_of_courses_viewed</th>\n",
       "      <th id=\"T_ebcfb_level0_col1\" class=\"col_heading level0 col1\" >annual_income</th>\n",
       "      <th id=\"T_ebcfb_level0_col2\" class=\"col_heading level0 col2\" >interaction_count</th>\n",
       "      <th id=\"T_ebcfb_level0_col3\" class=\"col_heading level0 col3\" >lead_score</th>\n",
       "      <th id=\"T_ebcfb_level0_col4\" class=\"col_heading level0 col4\" >converted</th>\n",
       "    </tr>\n",
       "  </thead>\n",
       "  <tbody>\n",
       "    <tr>\n",
       "      <th id=\"T_ebcfb_level0_row0\" class=\"row_heading level0 row0\" >number_of_courses_viewed</th>\n",
       "      <td id=\"T_ebcfb_row0_col0\" class=\"data row0 col0\" >1.000000</td>\n",
       "      <td id=\"T_ebcfb_row0_col1\" class=\"data row0 col1\" >0.009770</td>\n",
       "      <td id=\"T_ebcfb_row0_col2\" class=\"data row0 col2\" >-0.023565</td>\n",
       "      <td id=\"T_ebcfb_row0_col3\" class=\"data row0 col3\" >-0.004879</td>\n",
       "      <td id=\"T_ebcfb_row0_col4\" class=\"data row0 col4\" >0.435914</td>\n",
       "    </tr>\n",
       "    <tr>\n",
       "      <th id=\"T_ebcfb_level0_row1\" class=\"row_heading level0 row1\" >annual_income</th>\n",
       "      <td id=\"T_ebcfb_row1_col0\" class=\"data row1 col0\" >0.009770</td>\n",
       "      <td id=\"T_ebcfb_row1_col1\" class=\"data row1 col1\" >1.000000</td>\n",
       "      <td id=\"T_ebcfb_row1_col2\" class=\"data row1 col2\" >0.027036</td>\n",
       "      <td id=\"T_ebcfb_row1_col3\" class=\"data row1 col3\" >0.015610</td>\n",
       "      <td id=\"T_ebcfb_row1_col4\" class=\"data row1 col4\" >0.053131</td>\n",
       "    </tr>\n",
       "    <tr>\n",
       "      <th id=\"T_ebcfb_level0_row2\" class=\"row_heading level0 row2\" >interaction_count</th>\n",
       "      <td id=\"T_ebcfb_row2_col0\" class=\"data row2 col0\" >-0.023565</td>\n",
       "      <td id=\"T_ebcfb_row2_col1\" class=\"data row2 col1\" >0.027036</td>\n",
       "      <td id=\"T_ebcfb_row2_col2\" class=\"data row2 col2\" >1.000000</td>\n",
       "      <td id=\"T_ebcfb_row2_col3\" class=\"data row2 col3\" >0.009888</td>\n",
       "      <td id=\"T_ebcfb_row2_col4\" class=\"data row2 col4\" >0.374573</td>\n",
       "    </tr>\n",
       "    <tr>\n",
       "      <th id=\"T_ebcfb_level0_row3\" class=\"row_heading level0 row3\" >lead_score</th>\n",
       "      <td id=\"T_ebcfb_row3_col0\" class=\"data row3 col0\" >-0.004879</td>\n",
       "      <td id=\"T_ebcfb_row3_col1\" class=\"data row3 col1\" >0.015610</td>\n",
       "      <td id=\"T_ebcfb_row3_col2\" class=\"data row3 col2\" >0.009888</td>\n",
       "      <td id=\"T_ebcfb_row3_col3\" class=\"data row3 col3\" >1.000000</td>\n",
       "      <td id=\"T_ebcfb_row3_col4\" class=\"data row3 col4\" >0.193673</td>\n",
       "    </tr>\n",
       "    <tr>\n",
       "      <th id=\"T_ebcfb_level0_row4\" class=\"row_heading level0 row4\" >converted</th>\n",
       "      <td id=\"T_ebcfb_row4_col0\" class=\"data row4 col0\" >0.435914</td>\n",
       "      <td id=\"T_ebcfb_row4_col1\" class=\"data row4 col1\" >0.053131</td>\n",
       "      <td id=\"T_ebcfb_row4_col2\" class=\"data row4 col2\" >0.374573</td>\n",
       "      <td id=\"T_ebcfb_row4_col3\" class=\"data row4 col3\" >0.193673</td>\n",
       "      <td id=\"T_ebcfb_row4_col4\" class=\"data row4 col4\" >1.000000</td>\n",
       "    </tr>\n",
       "  </tbody>\n",
       "</table>\n"
      ],
      "text/plain": [
       "<pandas.io.formats.style.Styler at 0x14e1ff4d0>"
      ]
     },
     "execution_count": 12,
     "metadata": {},
     "output_type": "execute_result"
    }
   ],
   "source": [
    "# Create the correlation matrix for the numerical features of your dataset. In a correlation matrix, you compute the correlation coefficient between every pair of features.\n",
    "corr_matrix = df[numerical].corr()\n",
    "corr_matrix.style.background_gradient(cmap='coolwarm')"
   ]
  },
  {
   "cell_type": "code",
   "execution_count": 16,
   "metadata": {
    "_sphinx_cell_id": "f64f754a-a462-4fdf-80e4-8020e3dfe9de"
   },
   "outputs": [
    {
     "name": "stdout",
     "output_type": "stream",
     "text": [
      "The two features with the biggest correlation are: annual_income and interaction_count\n",
      "Correlation value: 0.027036472404814396\n"
     ]
    }
   ],
   "source": [
    "# Extract the relevant pairs\n",
    "relevant_pairs = {\n",
    "    \"interaction_count and lead_score\": corr_matrix.loc[\"interaction_count\", \"lead_score\"],\n",
    "    \"number_of_courses_viewed and lead_score\": corr_matrix.loc[\"number_of_courses_viewed\", \"lead_score\"],\n",
    "    \"number_of_courses_viewed and interaction_count\": corr_matrix.loc[\"number_of_courses_viewed\", \"interaction_count\"],\n",
    "    \"annual_income and interaction_count\": corr_matrix.loc[\"annual_income\", \"interaction_count\"]\n",
    "}\n",
    "\n",
    "# Find the pair with the highest correlation\n",
    "sorted_pairs = sorted(relevant_pairs.items(), key=lambda x: abs(x[1]), reverse=True)\n",
    "highest_correlation_pair = sorted_pairs[0]\n",
    "\n",
    "print(\"The two features with the biggest correlation are:\", highest_correlation_pair[0])\n",
    "print(\"Correlation value:\", highest_correlation_pair[1])"
   ]
  },
  {
   "cell_type": "code",
   "execution_count": 14,
   "metadata": {
    "_sphinx_cell_id": "ebff1614-b8ea-42bb-966a-d48b4c6786fc"
   },
   "outputs": [
    {
     "data": {
      "text/plain": [
       "number_of_courses_viewed  annual_income        0.009770\n",
       "                          interaction_count   -0.023565\n",
       "                          lead_score          -0.004879\n",
       "                          converted            0.435914\n",
       "annual_income             interaction_count    0.027036\n",
       "                          lead_score           0.015610\n",
       "                          converted            0.053131\n",
       "interaction_count         lead_score           0.009888\n",
       "                          converted            0.374573\n",
       "lead_score                converted            0.193673\n",
       "dtype: float64"
      ]
     },
     "execution_count": 14,
     "metadata": {},
     "output_type": "execute_result"
    }
   ],
   "source": [
    "corr_matrix_unstacked"
   ]
  },
  {
   "cell_type": "markdown",
   "metadata": {
    "_sphinx_cell_id": "51884662-da13-4c4e-8628-e58be2e2f622"
   },
   "source": [
    "# Split the data"
   ]
  },
  {
   "cell_type": "code",
   "execution_count": 17,
   "metadata": {
    "_sphinx_cell_id": "8f79f243-7581-4c3f-9a78-ff93975266b8"
   },
   "outputs": [],
   "source": [
    "from sklearn.model_selection import train_test_split"
   ]
  },
  {
   "cell_type": "code",
   "execution_count": 24,
   "metadata": {
    "_sphinx_cell_id": "2745d7d3-6645-42db-9c25-e8d2d967905e"
   },
   "outputs": [
    {
     "name": "stdout",
     "output_type": "stream",
     "text": [
      "Train size: 876\n",
      "Validation size: 293\n",
      "Test size: 293\n"
     ]
    }
   ],
   "source": [
    "# Split the data into 80% full train and 20% test\n",
    "df_full_train, df_test = train_test_split(df, test_size=0.2, random_state=1)\n",
    "\n",
    "# Split the full train into 60% train and 20% validation\n",
    "df_train, df_val = train_test_split(df_full_train, test_size=0.25, random_state=42)  # 0.25 * 80% = 20%\n",
    "\n",
    "df_train = df_train.reset_index(drop=True)\n",
    "df_val = df_val.reset_index(drop=True)\n",
    "df_test = df_test.reset_index(drop=True)\n",
    "\n",
    "y_train = df_train.converted.values\n",
    "y_val = df_val.converted.values\n",
    "y_test = df_test.converted.values\n",
    "\n",
    "del df_train['converted']\n",
    "del df_val['converted']\n",
    "del df_test['converted']\n",
    "\n",
    "# Verify the sizes\n",
    "print(f\"Train size: {len(df_train)}\")\n",
    "print(f\"Validation size: {len(df_val)}\")\n",
    "print(f\"Test size: {len(df_test)}\")"
   ]
  },
  {
   "cell_type": "markdown",
   "metadata": {
    "_sphinx_cell_id": "643fe46b-d475-4786-a449-a0d9e086dd92"
   },
   "source": [
    "# Question 3"
   ]
  },
  {
   "cell_type": "code",
   "execution_count": 25,
   "metadata": {
    "_sphinx_cell_id": "fadb0983-2376-4832-84f5-e1eefd3acb04"
   },
   "outputs": [
    {
     "name": "stdout",
     "output_type": "stream",
     "text": [
      "Mutual Information between lead_source and target: 0.029\n",
      "Mutual Information between employment_status and target: 0.014\n",
      "Mutual Information between industry and target: 0.01\n",
      "Mutual Information between location and target: 0.001\n"
     ]
    }
   ],
   "source": [
    "from sklearn.metrics import mutual_info_score\n",
    "\n",
    "# Select categorical columns from the training set\n",
    "categorical_columns = df_train.select_dtypes(include=['object']).columns\n",
    "\n",
    "# Calculate mutual information scores\n",
    "mi_scores = {}\n",
    "for col in categorical_columns:\n",
    "    mi_scores[col] = mutual_info_score(df_train[col], y_train)\n",
    "\n",
    "# Sort and display the mutual information scores\n",
    "sorted_mi_scores = sorted(mi_scores.items(), key=lambda x: x[1], reverse=True)\n",
    "for col, score in sorted_mi_scores:\n",
    "    print(f\"Mutual Information between {col} and target: {round(score,3)}\")"
   ]
  },
  {
   "cell_type": "markdown",
   "metadata": {
    "_sphinx_cell_id": "2755698f-55ba-402c-9994-bfd2614b44fb"
   },
   "source": [
    "# Question 4"
   ]
  },
  {
   "cell_type": "code",
   "execution_count": 36,
   "metadata": {
    "_sphinx_cell_id": "75d5152f-83e2-407f-b5dc-930024f88a6b"
   },
   "outputs": [],
   "source": [
    "from sklearn.feature_extraction import DictVectorizer\n",
    "dv = DictVectorizer(sparse=False)\n",
    "\n",
    "train_dict = df_train.to_dict(orient='records')\n",
    "X_train = dv.fit_transform(train_dict)\n",
    "\n",
    "val_dict = df_val.to_dict(orient='records')\n",
    "X_val = dv.transform(val_dict)"
   ]
  },
  {
   "cell_type": "code",
   "execution_count": 38,
   "metadata": {
    "_sphinx_cell_id": "3af865e5-8653-41af-abd3-43eb7854e0b6"
   },
   "outputs": [
    {
     "data": {
      "text/plain": [
       "0.7303754266211604"
      ]
     },
     "execution_count": 38,
     "metadata": {},
     "output_type": "execute_result"
    }
   ],
   "source": [
    "from sklearn.linear_model import LogisticRegression\n",
    "from sklearn.metrics import accuracy_score\n",
    "\n",
    "model = LogisticRegression(solver='liblinear', C=1.0, max_iter=1000, random_state=42)\n",
    "model.fit(X_train, y_train)\n",
    "\n",
    "y_pred = model.predict(X_val)\n",
    "accuracy_score(y_val, y_pred)"
   ]
  },
  {
   "cell_type": "code",
   "execution_count": 39,
   "metadata": {
    "_sphinx_cell_id": "d81565c3-0b6f-4f55-8b18-0036b1505732"
   },
   "outputs": [
    {
     "data": {
      "text/plain": [
       "Index(['lead_source', 'industry', 'number_of_courses_viewed', 'annual_income',\n",
       "       'employment_status', 'location', 'interaction_count', 'lead_score'],\n",
       "      dtype='object')"
      ]
     },
     "execution_count": 39,
     "metadata": {},
     "output_type": "execute_result"
    }
   ],
   "source": [
    "df_train.columns"
   ]
  },
  {
   "cell_type": "code",
   "execution_count": 43,
   "metadata": {
    "_sphinx_cell_id": "e034d495-3572-4eda-8714-635a620e7e14"
   },
   "outputs": [
    {
     "name": "stdout",
     "output_type": "stream",
     "text": [
      "Feature with the smallest difference: industry\n",
      "Accuracy differences: {'industry': -0.010238907849829393, 'employment_status': 0.0, 'lead_score': 0.0}\n"
     ]
    }
   ],
   "source": [
    "from sklearn.linear_model import LogisticRegression\n",
    "from sklearn.metrics import accuracy_score\n",
    "\n",
    "# Define the features and target\n",
    "features = ['industry', \n",
    "            'employment_status', 'lead_score']  \n",
    "dv = DictVectorizer(sparse=False)\n",
    "\n",
    "train_dict = df_train.to_dict(orient='records')\n",
    "X_train = dv.fit_transform(train_dict)\n",
    "\n",
    "val_dict = df_val.to_dict(orient='records')\n",
    "X_val = dv.transform(val_dict)\n",
    "\n",
    "model = LogisticRegression(solver='liblinear', C=1.0, max_iter=1000, random_state=42)\n",
    "model.fit(X_train, y_train)\n",
    "y_pred = model.predict(X_val)\n",
    "baseline_accuracy = accuracy_score(y_val, y_pred)\n",
    "\n",
    "# Perform feature elimination\n",
    "accuracy_differences = {}\n",
    "for feature in features:\n",
    "    # Exclude the feature\n",
    "\n",
    "    train_dict = df_train.drop(columns=[feature]).to_dict(orient='records')\n",
    "    X_train_subset= dv.fit_transform(train_dict)\n",
    "\n",
    "    val_dict = df_val.drop(columns=[feature]).to_dict(orient='records')\n",
    "    X_val_subset = dv.transform(val_dict)\n",
    "\n",
    "    # Train the model without the feature\n",
    "    model = LogisticRegression(solver='liblinear', C=1.0, max_iter=1000, random_state=42)\n",
    "    model.fit(X_train_subset, y_train)\n",
    "    y_pred = model.predict(X_val_subset)\n",
    "    accuracy = accuracy_score(y_val, y_pred)\n",
    "    \n",
    "    # Calculate the difference\n",
    "    accuracy_differences[feature] = baseline_accuracy - accuracy\n",
    "\n",
    "# Find the feature with the smallest difference\n",
    "least_useful_feature = min(accuracy_differences, key=accuracy_differences.get)\n",
    "print(\"Feature with the smallest difference:\", least_useful_feature)\n",
    "print(\"Accuracy differences:\", accuracy_differences)"
   ]
  },
  {
   "cell_type": "markdown",
   "metadata": {
    "_sphinx_cell_id": "2317fb72-0a21-4a90-b519-0dd9a83307a2"
   },
   "source": [
    "# Question 6"
   ]
  },
  {
   "cell_type": "code",
   "execution_count": 45,
   "metadata": {
    "_sphinx_cell_id": "aff5987d-a2ae-4c8b-9b0f-b6880ca4f9f9"
   },
   "outputs": [
    {
     "name": "stdout",
     "output_type": "stream",
     "text": [
      "C=0.01, Validation Accuracy=0.7304\n",
      "C=0.1, Validation Accuracy=0.7304\n",
      "C=1, Validation Accuracy=0.7304\n",
      "C=10, Validation Accuracy=0.7304\n",
      "C=100, Validation Accuracy=0.7304\n"
     ]
    }
   ],
   "source": [
    "from sklearn.linear_model import LogisticRegression\n",
    "from sklearn.metrics import accuracy_score\n",
    "\n",
    "# Define the features and target\n",
    "dv = DictVectorizer(sparse=False)\n",
    "\n",
    "train_dict = df_train.to_dict(orient='records')\n",
    "X_train = dv.fit_transform(train_dict)\n",
    "\n",
    "val_dict = df_val.to_dict(orient='records')\n",
    "X_val = dv.transform(val_dict)\n",
    "\n",
    "# Define the values of C to try\n",
    "C_values = [0.01, 0.1, 1, 10, 100]\n",
    "\n",
    "# Train models and calculate accuracy\n",
    "for C in C_values:\n",
    "    model = LogisticRegression(solver='liblinear', C=C, max_iter=1000, random_state=42)\n",
    "    model.fit(X_train, y_train)\n",
    "    y_pred = model.predict(X_val)\n",
    "    accuracy = accuracy_score(y_val, y_pred)\n",
    "    print(f\"C={C}, Validation Accuracy={round(accuracy, 4)}\")"
   ]
  },
  {
   "cell_type": "code",
   "execution_count": null,
   "metadata": {
    "_sphinx_cell_id": "8dcfc909-84b1-4e2c-8695-66ab29c51fec"
   },
   "outputs": [],
   "source": []
  }
 ],
 "metadata": {
  "__sphinx_history__.8db4bd1c-5b55-48ef-8fa4-43a2be662b3a": "eJzNVstqZFUUJQGlvY0QCgdNRpfuwsTGXTnvR6GIIOKokWCDRKTZ55WkSVLh1k3HFgeN4A+I+AWC0uDAsYjOnPkhfoXrZigOSgfS1KCq4Nx911p7rb1PNw8lmVRkJpusJRNqo9DYkNGsUnVOJc2zVx9ejKfjWS19PuHx7ktiYRfy/u1bPz3/4feXd549//Ohun3rjx+nP799/+yD5a9b3VymkKUpjVKqKGeSpyAVk7GNg5EpqmgPv8XB1KRVUhaKLgKB4Uox1EQxKXwLGbxtu2el9W/3l2UxVC6P8vrJ/t7JOF6ulwcHA18vjk/Hk6t0ta5DXl2M9WJc5NX5AZ/Vz+rT4+H0eDXUJweFR17XcX1wzuuxDgd5dTWs66OzqeI6r4bTi+MFKu+90W8vP+zm1oeSnZUAYjWZGitNlKhGUz3roLjptN/NlUktFs4UdXZkYtGUDATVtgXNsbbcyp3tG01EsGBmHSkhUFJAbA4tUm7ahmyM896nTTWZ/a+a3Nla/gJgwXOyRVuKXgYyPjhKnCrp6rKJSnoX/ONvXkgGU0+DicZb4YmbhCmTSxRUUKS8liJL4XRoR+jpJuh3tpefdPPqPdtQKqHZHt3XqBiMIN2y1Uq56jUi1M0blxKVFSRdFTjnG4rBUnhJ8qUEVYuevVLa4gTA9ye5AVeF4GK2MJ5JgJHxZPDeko1WGtYmB04T3E2KA27p5t7nVhmmFrklhDwFilZLCslnGYJl52N6a6IVmVNhysHAqVYwhVwrORurZZ1ZtDyb3evfg/r95VAveeDxdHUBowN3rqloYQzVXBGJ1AQl14Cn2uJNCHi52zg6W8sH3dw52dgCQDPTNPElEcvqyWrPUoaovVGPX9+s4lSvyKgyvEpV3SiGXykzFGlGNnBLWaijTeuBcfVJFJUKOY00YNpF2MBJUqpIroGDc21iXEUMrEqm2lzGuZwoSQcYQUldbdQ2ToxRkU2pEcxI5YwOOOHQKaeoKWGLsTnobKfeb4IQvf9qGsm2CZ2EouzRG5Mt/F0TE2pHZ10xyPDhp5uB3NX3+vdXQ58ZoVsdnw581sNZ49VQ12/2MMQZ59qPJ/W8v0aM+70H7+51/dby52k2WNOSbYUmIrAHFIuywInCRwxbDsnYw69xcBMgs/8C5O/o84bovwOo2JJPThhyBr422JuUdEGEqjROVvjK+OGL7vNujhboLBLGfXXQ29UI0xaB4VOyRqRKCmHmOtOpf4/m7m53RwllSSL18iMRltoslVpEKY6W9xF0VWAcD9WQHDJKwyBZ3bhcwN0GJgqz7Z2t5ZegVKRKyWC3cRQTJYZ7LZ5lF1XCxzpphqPuY5BHsPHaQgIrC9cFr4m5YCLBkTmigUL52WvdrNu5xk0BjC76p6urvqze+QfAdqnMQjh/A5gldqoLmHUew8a4AJ1CxoLELcJgE2cINgH+CyFicZg=",
  "kernelspec": {
   "display_name": "ml-zoomcamp",
   "language": "python",
   "name": "python3"
  },
  "language_info": {
   "codemirror_mode": {
    "name": "ipython",
    "version": 3
   },
   "file_extension": ".py",
   "mimetype": "text/x-python",
   "name": "python",
   "nbconvert_exporter": "python",
   "pygments_lexer": "ipython3",
   "version": "3.11.13"
  }
 },
 "nbformat": 4,
 "nbformat_minor": 2
}
